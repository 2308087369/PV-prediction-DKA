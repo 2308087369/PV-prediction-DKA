{
 "cells": [
  {
   "cell_type": "code",
   "execution_count": 1,
   "metadata": {},
   "outputs": [],
   "source": [
    "import pandas as pd\n",
    "import numpy as np\n",
    "from sklearn.preprocessing import StandardScaler\n",
    "\n",
    "# 1. 加载数据\n",
    "file_path = r'E:\\Pythonworkshop\\Solar_data_processing\\cleaned_data_final_Yulara.csv'\n",
    "data = pd.read_csv(file_path)\n",
    "\n",
    "# 删除时间戳列\n",
    "if 'timestamp' in data.columns:\n",
    "    data = data.drop(columns=['timestamp'])\n",
    "\n",
    "# 添加前一时刻的功率数据作为新的特征\n",
    "data['Prev_Power'] = data['Active_Power'].shift(1)\n",
    "data['Prev_Power'] = data['Prev_Power'].fillna(0)  # 处理缺失值\n",
    "\n",
    "# 数据集划分\n",
    "X = data.drop(columns=['Active_Power'])\n",
    "y = data['Active_Power']\n",
    "\n",
    "train_size = int(len(X) * 0.7)\n",
    "val_size = int(len(X) * 0.15)\n",
    "\n",
    "X_train = X[:train_size]\n",
    "y_train = y[:train_size]\n",
    "\n",
    "X_val = X[train_size:train_size + val_size]\n",
    "y_val = y[train_size:train_size + val_size]\n",
    "\n",
    "X_test = X[train_size + val_size:]\n",
    "y_test = y[train_size + val_size:]\n",
    "\n",
    "# 使用训练集数据进行归一化\n",
    "scaler_X = StandardScaler()\n",
    "scaler_y = StandardScaler()\n",
    "\n",
    "# 仅使用训练集数据拟合scaler\n",
    "X_train_scaled = scaler_X.fit_transform(X_train)\n",
    "y_train_scaled = scaler_y.fit_transform(y_train.values.reshape(-1, 1))\n",
    "\n",
    "# 使用训练集的归一化参数对验证集和测试集进行归一化\n",
    "X_val_scaled = scaler_X.transform(X_val)\n",
    "y_val_scaled = scaler_y.transform(y_val.values.reshape(-1, 1))\n",
    "\n",
    "X_test_scaled = scaler_X.transform(X_test)\n",
    "y_test_scaled = scaler_y.transform(y_test.values.reshape(-1, 1))\n",
    "\n",
    "forecast_horizon = 6  # 未来预测的时间步长\n",
    "output_size = forecast_horizon  # 输出大小"
   ]
  },
  {
   "cell_type": "code",
   "execution_count": 2,
   "metadata": {},
   "outputs": [],
   "source": [
    "from sklearn.metrics import mean_squared_error, mean_absolute_error, mean_absolute_percentage_error\n",
    "import numpy as np\n",
    "\n",
    "# 定义函数来计算整体和每个时间步的误差并打印结果\n",
    "def calculate_and_print_errors(y_true, y_pred):\n",
    "    # 展平整个预测区间来计算整体误差\n",
    "    flattened_y_true = y_true.flatten()\n",
    "    flattened_y_pred = y_pred.flatten()\n",
    "    \n",
    "    overall_rmse = np.sqrt(mean_squared_error(flattened_y_true, flattened_y_pred))\n",
    "    overall_mae = mean_absolute_error(flattened_y_true, flattened_y_pred)\n",
    "    overall_mape = mean_absolute_percentage_error(flattened_y_true, flattened_y_pred)\n",
    "\n",
    "    print(\"Overall errors for all steps combined:\")\n",
    "    print(f\"Overall RMSE: {overall_rmse:.4f}\")\n",
    "    print(f\"Overall MAE: {overall_mae:.4f}\")\n",
    "    print(f\"Overall MAPE: {overall_mape:.4%}\\n\")\n",
    "\n",
    "    # 每个时间步的误差计算\n",
    "    num_steps = y_true.shape[1]\n",
    "    rmse_per_step = []\n",
    "    mae_per_step = []\n",
    "    mape_per_step = []\n",
    "\n",
    "    for step in range(num_steps):\n",
    "        rmse_step = np.sqrt(mean_squared_error(y_true[:, step], y_pred[:, step]))\n",
    "        mae_step = mean_absolute_error(y_true[:, step], y_pred[:, step])\n",
    "        mape_step = mean_absolute_percentage_error(y_true[:, step], y_pred[:, step])\n",
    "\n",
    "        rmse_per_step.append(rmse_step)\n",
    "        mae_per_step.append(mae_step)\n",
    "        mape_per_step.append(mape_step)\n",
    "\n",
    "        print(f\"Step {step + 1} - RMSE: {rmse_step:.4f}, MAE: {mae_step:.4f}, MAPE: {mape_step:.4%}\")\n",
    "\n",
    "    # 计算每个时间步的平均误差\n",
    "    avg_rmse = np.mean(rmse_per_step)\n",
    "    avg_mae = np.mean(mae_per_step)\n",
    "    avg_mape = np.mean(mape_per_step)\n",
    "\n",
    "    print(\"\\nAverage errors across all steps:\")\n",
    "    print(f\"Average RMSE: {avg_rmse:.4f}\")\n",
    "    print(f\"Average MAE: {avg_mae:.4f}\")\n",
    "    print(f\"Average MAPE: {avg_mape:.4%}\")\n",
    "\n",
    "    return overall_rmse, overall_mae, overall_mape, rmse_per_step, mae_per_step, mape_per_step\n"
   ]
  },
  {
   "cell_type": "code",
   "execution_count": 4,
   "metadata": {},
   "outputs": [
    {
     "name": "stdout",
     "output_type": "stream",
     "text": [
      "Training with window_size=2\n"
     ]
    },
    {
     "name": "stderr",
     "output_type": "stream",
     "text": [
      "c:\\Users\\bo.chen18\\AppData\\Local\\Programs\\Python\\Python312\\Lib\\site-packages\\keras\\src\\layers\\rnn\\rnn.py:203: UserWarning: Do not pass an `input_shape`/`input_dim` argument to a layer. When using Sequential models, prefer using an `Input(shape)` object as the first layer in the model instead.\n",
      "  super().__init__(**kwargs)\n"
     ]
    },
    {
     "name": "stdout",
     "output_type": "stream",
     "text": [
      "\u001b[1m489/489\u001b[0m \u001b[32m━━━━━━━━━━━━━━━━━━━━\u001b[0m\u001b[37m\u001b[0m \u001b[1m0s\u001b[0m 737us/step\n",
      "Validation RMSE for window_size={window_size}\n",
      "Overall errors for all steps combined:\n",
      "Overall RMSE: 0.2237\n",
      "Overall MAE: 0.1001\n",
      "Overall MAPE: 33.9878%\n",
      "\n",
      "Step 1 - RMSE: 0.1589, MAE: 0.0684, MAPE: 20.9886%\n",
      "Step 2 - RMSE: 0.1930, MAE: 0.0834, MAPE: 27.9097%\n",
      "Step 3 - RMSE: 0.2165, MAE: 0.0954, MAPE: 32.0289%\n",
      "Step 4 - RMSE: 0.2364, MAE: 0.1077, MAPE: 36.4698%\n",
      "Step 5 - RMSE: 0.2523, MAE: 0.1178, MAPE: 41.4602%\n",
      "Step 6 - RMSE: 0.2671, MAE: 0.1276, MAPE: 45.0695%\n",
      "\n",
      "Average errors across all steps:\n",
      "Average RMSE: 0.2207\n",
      "Average MAE: 0.1001\n",
      "Average MAPE: 33.9878%\n",
      "Training with window_size=3\n"
     ]
    },
    {
     "name": "stderr",
     "output_type": "stream",
     "text": [
      "c:\\Users\\bo.chen18\\AppData\\Local\\Programs\\Python\\Python312\\Lib\\site-packages\\keras\\src\\layers\\rnn\\rnn.py:203: UserWarning: Do not pass an `input_shape`/`input_dim` argument to a layer. When using Sequential models, prefer using an `Input(shape)` object as the first layer in the model instead.\n",
      "  super().__init__(**kwargs)\n"
     ]
    },
    {
     "name": "stdout",
     "output_type": "stream",
     "text": [
      "\u001b[1m489/489\u001b[0m \u001b[32m━━━━━━━━━━━━━━━━━━━━\u001b[0m\u001b[37m\u001b[0m \u001b[1m1s\u001b[0m 945us/step\n",
      "Validation RMSE for window_size={window_size}\n",
      "Overall errors for all steps combined:\n",
      "Overall RMSE: 0.2339\n",
      "Overall MAE: 0.1102\n",
      "Overall MAPE: 35.9863%\n",
      "\n",
      "Step 1 - RMSE: 0.1640, MAE: 0.0769, MAPE: 24.0375%\n",
      "Step 2 - RMSE: 0.2019, MAE: 0.0935, MAPE: 30.7680%\n",
      "Step 3 - RMSE: 0.2257, MAE: 0.1053, MAPE: 35.1773%\n",
      "Step 4 - RMSE: 0.2502, MAE: 0.1234, MAPE: 39.6773%\n",
      "Step 5 - RMSE: 0.2649, MAE: 0.1271, MAPE: 42.3045%\n",
      "Step 6 - RMSE: 0.2775, MAE: 0.1348, MAPE: 43.9533%\n",
      "\n",
      "Average errors across all steps:\n",
      "Average RMSE: 0.2307\n",
      "Average MAE: 0.1102\n",
      "Average MAPE: 35.9863%\n",
      "Training with window_size=4\n"
     ]
    },
    {
     "name": "stderr",
     "output_type": "stream",
     "text": [
      "c:\\Users\\bo.chen18\\AppData\\Local\\Programs\\Python\\Python312\\Lib\\site-packages\\keras\\src\\layers\\rnn\\rnn.py:203: UserWarning: Do not pass an `input_shape`/`input_dim` argument to a layer. When using Sequential models, prefer using an `Input(shape)` object as the first layer in the model instead.\n",
      "  super().__init__(**kwargs)\n"
     ]
    },
    {
     "name": "stdout",
     "output_type": "stream",
     "text": [
      "\u001b[1m489/489\u001b[0m \u001b[32m━━━━━━━━━━━━━━━━━━━━\u001b[0m\u001b[37m\u001b[0m \u001b[1m1s\u001b[0m 1000us/step\n",
      "Validation RMSE for window_size={window_size}\n",
      "Overall errors for all steps combined:\n",
      "Overall RMSE: 0.2445\n",
      "Overall MAE: 0.1157\n",
      "Overall MAPE: 33.4203%\n",
      "\n",
      "Step 1 - RMSE: 0.1702, MAE: 0.0787, MAPE: 21.1911%\n",
      "Step 2 - RMSE: 0.2095, MAE: 0.0967, MAPE: 28.3051%\n",
      "Step 3 - RMSE: 0.2366, MAE: 0.1120, MAPE: 31.9929%\n",
      "Step 4 - RMSE: 0.2620, MAE: 0.1281, MAPE: 36.2863%\n",
      "Step 5 - RMSE: 0.2761, MAE: 0.1342, MAPE: 39.4587%\n",
      "Step 6 - RMSE: 0.2918, MAE: 0.1448, MAPE: 43.2874%\n",
      "\n",
      "Average errors across all steps:\n",
      "Average RMSE: 0.2410\n",
      "Average MAE: 0.1157\n",
      "Average MAPE: 33.4203%\n",
      "Training with window_size=5\n"
     ]
    },
    {
     "name": "stderr",
     "output_type": "stream",
     "text": [
      "c:\\Users\\bo.chen18\\AppData\\Local\\Programs\\Python\\Python312\\Lib\\site-packages\\keras\\src\\layers\\rnn\\rnn.py:203: UserWarning: Do not pass an `input_shape`/`input_dim` argument to a layer. When using Sequential models, prefer using an `Input(shape)` object as the first layer in the model instead.\n",
      "  super().__init__(**kwargs)\n"
     ]
    },
    {
     "name": "stdout",
     "output_type": "stream",
     "text": [
      "\u001b[1m489/489\u001b[0m \u001b[32m━━━━━━━━━━━━━━━━━━━━\u001b[0m\u001b[37m\u001b[0m \u001b[1m1s\u001b[0m 1ms/step\n",
      "Validation RMSE for window_size={window_size}\n",
      "Overall errors for all steps combined:\n",
      "Overall RMSE: 0.2485\n",
      "Overall MAE: 0.1215\n",
      "Overall MAPE: 36.7308%\n",
      "\n",
      "Step 1 - RMSE: 0.1840, MAE: 0.0936, MAPE: 22.8134%\n",
      "Step 2 - RMSE: 0.2163, MAE: 0.1062, MAPE: 29.9178%\n",
      "Step 3 - RMSE: 0.2396, MAE: 0.1176, MAPE: 34.0086%\n",
      "Step 4 - RMSE: 0.2582, MAE: 0.1241, MAPE: 39.9012%\n",
      "Step 5 - RMSE: 0.2791, MAE: 0.1372, MAPE: 43.8530%\n",
      "Step 6 - RMSE: 0.2963, MAE: 0.1504, MAPE: 49.8905%\n",
      "\n",
      "Average errors across all steps:\n",
      "Average RMSE: 0.2456\n",
      "Average MAE: 0.1215\n",
      "Average MAPE: 36.7308%\n",
      "Training with window_size=6\n"
     ]
    },
    {
     "name": "stderr",
     "output_type": "stream",
     "text": [
      "c:\\Users\\bo.chen18\\AppData\\Local\\Programs\\Python\\Python312\\Lib\\site-packages\\keras\\src\\layers\\rnn\\rnn.py:203: UserWarning: Do not pass an `input_shape`/`input_dim` argument to a layer. When using Sequential models, prefer using an `Input(shape)` object as the first layer in the model instead.\n",
      "  super().__init__(**kwargs)\n"
     ]
    },
    {
     "name": "stdout",
     "output_type": "stream",
     "text": [
      "\u001b[1m489/489\u001b[0m \u001b[32m━━━━━━━━━━━━━━━━━━━━\u001b[0m\u001b[37m\u001b[0m \u001b[1m1s\u001b[0m 1ms/step\n",
      "Validation RMSE for window_size={window_size}\n",
      "Overall errors for all steps combined:\n",
      "Overall RMSE: 0.2513\n",
      "Overall MAE: 0.1149\n",
      "Overall MAPE: 35.3920%\n",
      "\n",
      "Step 1 - RMSE: 0.1820, MAE: 0.0839, MAPE: 23.8258%\n",
      "Step 2 - RMSE: 0.2177, MAE: 0.0976, MAPE: 29.3226%\n",
      "Step 3 - RMSE: 0.2453, MAE: 0.1121, MAPE: 32.0122%\n",
      "Step 4 - RMSE: 0.2638, MAE: 0.1202, MAPE: 37.1802%\n",
      "Step 5 - RMSE: 0.2811, MAE: 0.1309, MAPE: 42.7411%\n",
      "Step 6 - RMSE: 0.2992, MAE: 0.1446, MAPE: 47.2704%\n",
      "\n",
      "Average errors across all steps:\n",
      "Average RMSE: 0.2482\n",
      "Average MAE: 0.1149\n",
      "Average MAPE: 35.3920%\n",
      "Training with window_size=7\n"
     ]
    },
    {
     "name": "stderr",
     "output_type": "stream",
     "text": [
      "c:\\Users\\bo.chen18\\AppData\\Local\\Programs\\Python\\Python312\\Lib\\site-packages\\keras\\src\\layers\\rnn\\rnn.py:203: UserWarning: Do not pass an `input_shape`/`input_dim` argument to a layer. When using Sequential models, prefer using an `Input(shape)` object as the first layer in the model instead.\n",
      "  super().__init__(**kwargs)\n"
     ]
    },
    {
     "name": "stdout",
     "output_type": "stream",
     "text": [
      "\u001b[1m489/489\u001b[0m \u001b[32m━━━━━━━━━━━━━━━━━━━━\u001b[0m\u001b[37m\u001b[0m \u001b[1m1s\u001b[0m 1ms/step\n",
      "Validation RMSE for window_size={window_size}\n",
      "Overall errors for all steps combined:\n",
      "Overall RMSE: 0.2504\n",
      "Overall MAE: 0.1140\n",
      "Overall MAPE: 33.4166%\n",
      "\n",
      "Step 1 - RMSE: 0.1745, MAE: 0.0763, MAPE: 20.7310%\n",
      "Step 2 - RMSE: 0.2176, MAE: 0.0987, MAPE: 27.3085%\n",
      "Step 3 - RMSE: 0.2447, MAE: 0.1135, MAPE: 33.2854%\n",
      "Step 4 - RMSE: 0.2641, MAE: 0.1204, MAPE: 37.3695%\n",
      "Step 5 - RMSE: 0.2856, MAE: 0.1378, MAPE: 39.6334%\n",
      "Step 6 - RMSE: 0.2954, MAE: 0.1371, MAPE: 42.1715%\n",
      "\n",
      "Average errors across all steps:\n",
      "Average RMSE: 0.2470\n",
      "Average MAE: 0.1140\n",
      "Average MAPE: 33.4166%\n",
      "Training with window_size=8\n"
     ]
    },
    {
     "name": "stderr",
     "output_type": "stream",
     "text": [
      "c:\\Users\\bo.chen18\\AppData\\Local\\Programs\\Python\\Python312\\Lib\\site-packages\\keras\\src\\layers\\rnn\\rnn.py:203: UserWarning: Do not pass an `input_shape`/`input_dim` argument to a layer. When using Sequential models, prefer using an `Input(shape)` object as the first layer in the model instead.\n",
      "  super().__init__(**kwargs)\n"
     ]
    },
    {
     "name": "stdout",
     "output_type": "stream",
     "text": [
      "\u001b[1m489/489\u001b[0m \u001b[32m━━━━━━━━━━━━━━━━━━━━\u001b[0m\u001b[37m\u001b[0m \u001b[1m1s\u001b[0m 1ms/step\n",
      "Validation RMSE for window_size={window_size}\n",
      "Overall errors for all steps combined:\n",
      "Overall RMSE: 0.2368\n",
      "Overall MAE: 0.1067\n",
      "Overall MAPE: 35.4374%\n",
      "\n",
      "Step 1 - RMSE: 0.1689, MAE: 0.0745, MAPE: 21.8124%\n",
      "Step 2 - RMSE: 0.2045, MAE: 0.0895, MAPE: 28.7289%\n",
      "Step 3 - RMSE: 0.2294, MAE: 0.1024, MAPE: 33.6040%\n",
      "Step 4 - RMSE: 0.2502, MAE: 0.1143, MAPE: 38.1197%\n",
      "Step 5 - RMSE: 0.2667, MAE: 0.1236, MAPE: 43.2193%\n",
      "Step 6 - RMSE: 0.2822, MAE: 0.1358, MAPE: 47.1402%\n",
      "\n",
      "Average errors across all steps:\n",
      "Average RMSE: 0.2337\n",
      "Average MAE: 0.1067\n",
      "Average MAPE: 35.4374%\n",
      "Training with window_size=9\n"
     ]
    },
    {
     "name": "stderr",
     "output_type": "stream",
     "text": [
      "c:\\Users\\bo.chen18\\AppData\\Local\\Programs\\Python\\Python312\\Lib\\site-packages\\keras\\src\\layers\\rnn\\rnn.py:203: UserWarning: Do not pass an `input_shape`/`input_dim` argument to a layer. When using Sequential models, prefer using an `Input(shape)` object as the first layer in the model instead.\n",
      "  super().__init__(**kwargs)\n"
     ]
    },
    {
     "name": "stdout",
     "output_type": "stream",
     "text": [
      "\u001b[1m489/489\u001b[0m \u001b[32m━━━━━━━━━━━━━━━━━━━━\u001b[0m\u001b[37m\u001b[0m \u001b[1m1s\u001b[0m 1ms/step\n",
      "Validation RMSE for window_size={window_size}\n",
      "Overall errors for all steps combined:\n",
      "Overall RMSE: 0.2531\n",
      "Overall MAE: 0.1106\n",
      "Overall MAPE: 35.5126%\n",
      "\n",
      "Step 1 - RMSE: 0.1768, MAE: 0.0741, MAPE: 20.9094%\n",
      "Step 2 - RMSE: 0.2170, MAE: 0.0932, MAPE: 28.0248%\n",
      "Step 3 - RMSE: 0.2433, MAE: 0.1062, MAPE: 34.5316%\n",
      "Step 4 - RMSE: 0.2681, MAE: 0.1200, MAPE: 39.4501%\n",
      "Step 5 - RMSE: 0.2879, MAE: 0.1304, MAPE: 43.6653%\n",
      "Step 6 - RMSE: 0.3033, MAE: 0.1398, MAPE: 46.4948%\n",
      "\n",
      "Average errors across all steps:\n",
      "Average RMSE: 0.2494\n",
      "Average MAE: 0.1106\n",
      "Average MAPE: 35.5126%\n",
      "Training with window_size=10\n"
     ]
    },
    {
     "name": "stderr",
     "output_type": "stream",
     "text": [
      "c:\\Users\\bo.chen18\\AppData\\Local\\Programs\\Python\\Python312\\Lib\\site-packages\\keras\\src\\layers\\rnn\\rnn.py:203: UserWarning: Do not pass an `input_shape`/`input_dim` argument to a layer. When using Sequential models, prefer using an `Input(shape)` object as the first layer in the model instead.\n",
      "  super().__init__(**kwargs)\n"
     ]
    },
    {
     "name": "stdout",
     "output_type": "stream",
     "text": [
      "\u001b[1m489/489\u001b[0m \u001b[32m━━━━━━━━━━━━━━━━━━━━\u001b[0m\u001b[37m\u001b[0m \u001b[1m1s\u001b[0m 1ms/step\n",
      "Validation RMSE for window_size={window_size}\n",
      "Overall errors for all steps combined:\n",
      "Overall RMSE: 0.2574\n",
      "Overall MAE: 0.1155\n",
      "Overall MAPE: 38.2720%\n",
      "\n",
      "Step 1 - RMSE: 0.1799, MAE: 0.0788, MAPE: 22.7798%\n",
      "Step 2 - RMSE: 0.2193, MAE: 0.0974, MAPE: 31.6689%\n",
      "Step 3 - RMSE: 0.2482, MAE: 0.1108, MAPE: 36.6889%\n",
      "Step 4 - RMSE: 0.2736, MAE: 0.1247, MAPE: 42.2943%\n",
      "Step 5 - RMSE: 0.2917, MAE: 0.1349, MAPE: 46.8868%\n",
      "Step 6 - RMSE: 0.3090, MAE: 0.1464, MAPE: 49.3133%\n",
      "\n",
      "Average errors across all steps:\n",
      "Average RMSE: 0.2536\n",
      "Average MAE: 0.1155\n",
      "Average MAPE: 38.2720%\n",
      "Training with window_size=12\n"
     ]
    },
    {
     "name": "stderr",
     "output_type": "stream",
     "text": [
      "c:\\Users\\bo.chen18\\AppData\\Local\\Programs\\Python\\Python312\\Lib\\site-packages\\keras\\src\\layers\\rnn\\rnn.py:203: UserWarning: Do not pass an `input_shape`/`input_dim` argument to a layer. When using Sequential models, prefer using an `Input(shape)` object as the first layer in the model instead.\n",
      "  super().__init__(**kwargs)\n"
     ]
    },
    {
     "name": "stdout",
     "output_type": "stream",
     "text": [
      "\u001b[1m489/489\u001b[0m \u001b[32m━━━━━━━━━━━━━━━━━━━━\u001b[0m\u001b[37m\u001b[0m \u001b[1m1s\u001b[0m 1ms/step\n",
      "Validation RMSE for window_size={window_size}\n",
      "Overall errors for all steps combined:\n",
      "Overall RMSE: 0.2757\n",
      "Overall MAE: 0.1280\n",
      "Overall MAPE: 37.4091%\n",
      "\n",
      "Step 1 - RMSE: 0.1977, MAE: 0.0896, MAPE: 23.9875%\n",
      "Step 2 - RMSE: 0.2375, MAE: 0.1081, MAPE: 30.9263%\n",
      "Step 3 - RMSE: 0.2704, MAE: 0.1266, MAPE: 35.6719%\n",
      "Step 4 - RMSE: 0.2924, MAE: 0.1386, MAPE: 40.5599%\n",
      "Step 5 - RMSE: 0.3108, MAE: 0.1484, MAPE: 44.4938%\n",
      "Step 6 - RMSE: 0.3243, MAE: 0.1565, MAPE: 48.8154%\n",
      "\n",
      "Average errors across all steps:\n",
      "Average RMSE: 0.2722\n",
      "Average MAE: 0.1280\n",
      "Average MAPE: 37.4091%\n",
      "Training with window_size=16\n"
     ]
    },
    {
     "name": "stderr",
     "output_type": "stream",
     "text": [
      "c:\\Users\\bo.chen18\\AppData\\Local\\Programs\\Python\\Python312\\Lib\\site-packages\\keras\\src\\layers\\rnn\\rnn.py:203: UserWarning: Do not pass an `input_shape`/`input_dim` argument to a layer. When using Sequential models, prefer using an `Input(shape)` object as the first layer in the model instead.\n",
      "  super().__init__(**kwargs)\n"
     ]
    },
    {
     "name": "stdout",
     "output_type": "stream",
     "text": [
      "\u001b[1m489/489\u001b[0m \u001b[32m━━━━━━━━━━━━━━━━━━━━\u001b[0m\u001b[37m\u001b[0m \u001b[1m1s\u001b[0m 2ms/step\n",
      "Validation RMSE for window_size={window_size}\n",
      "Overall errors for all steps combined:\n",
      "Overall RMSE: 0.2616\n",
      "Overall MAE: 0.1171\n",
      "Overall MAPE: 36.2588%\n",
      "\n",
      "Step 1 - RMSE: 0.1891, MAE: 0.0828, MAPE: 24.8860%\n",
      "Step 2 - RMSE: 0.2300, MAE: 0.1007, MAPE: 32.7264%\n",
      "Step 3 - RMSE: 0.2549, MAE: 0.1147, MAPE: 36.1540%\n",
      "Step 4 - RMSE: 0.2760, MAE: 0.1252, MAPE: 39.1749%\n",
      "Step 5 - RMSE: 0.2942, MAE: 0.1358, MAPE: 40.8221%\n",
      "Step 6 - RMSE: 0.3071, MAE: 0.1435, MAPE: 43.7896%\n",
      "\n",
      "Average errors across all steps:\n",
      "Average RMSE: 0.2586\n",
      "Average MAE: 0.1171\n",
      "Average MAPE: 36.2588%\n",
      "Training with window_size=24\n"
     ]
    },
    {
     "name": "stderr",
     "output_type": "stream",
     "text": [
      "c:\\Users\\bo.chen18\\AppData\\Local\\Programs\\Python\\Python312\\Lib\\site-packages\\keras\\src\\layers\\rnn\\rnn.py:203: UserWarning: Do not pass an `input_shape`/`input_dim` argument to a layer. When using Sequential models, prefer using an `Input(shape)` object as the first layer in the model instead.\n",
      "  super().__init__(**kwargs)\n"
     ]
    },
    {
     "name": "stdout",
     "output_type": "stream",
     "text": [
      "\u001b[1m489/489\u001b[0m \u001b[32m━━━━━━━━━━━━━━━━━━━━\u001b[0m\u001b[37m\u001b[0m \u001b[1m1s\u001b[0m 2ms/step\n",
      "Validation RMSE for window_size={window_size}\n",
      "Overall errors for all steps combined:\n",
      "Overall RMSE: 0.2726\n",
      "Overall MAE: 0.1184\n",
      "Overall MAPE: 36.2375%\n",
      "\n",
      "Step 1 - RMSE: 0.2054, MAE: 0.0860, MAPE: 25.3313%\n",
      "Step 2 - RMSE: 0.2456, MAE: 0.1037, MAPE: 31.5703%\n",
      "Step 3 - RMSE: 0.2721, MAE: 0.1192, MAPE: 36.1281%\n",
      "Step 4 - RMSE: 0.2884, MAE: 0.1265, MAPE: 39.0760%\n",
      "Step 5 - RMSE: 0.2995, MAE: 0.1339, MAPE: 41.5994%\n",
      "Step 6 - RMSE: 0.3106, MAE: 0.1409, MAPE: 43.7197%\n",
      "\n",
      "Average errors across all steps:\n",
      "Average RMSE: 0.2703\n",
      "Average MAE: 0.1184\n",
      "Average MAPE: 36.2375%\n"
     ]
    }
   ],
   "source": [
    "from tensorflow.keras import layers, models\n",
    "from sklearn.metrics import mean_squared_error\n",
    "import numpy as np\n",
    "import tensorflow as tf\n",
    "# 定义函数来构建和编译 LSTM 模型\n",
    "def build_lstm_model(input_shape, hidden_size=90):\n",
    "    model = models.Sequential([\n",
    "        layers.LSTM(hidden_size, input_shape=input_shape, return_sequences=False),\n",
    "        layers.Dropout(0.2),\n",
    "        layers.Dense(output_size)\n",
    "    ])\n",
    "    model.compile(optimizer=tf.keras.optimizers.Adam(learning_rate=0.001), loss='mse')\n",
    "    return model\n",
    "\n",
    "# 定义函数来创建滑动窗口数据\n",
    "def create_sliding_window_features(X, y, window_size, forecast_horizon=12, step_size=1):\n",
    "    X_windows = []\n",
    "    y_windows = []\n",
    "    for start in range(0, len(X) - window_size - forecast_horizon + 1, step_size):\n",
    "        end = start + window_size\n",
    "        X_windows.append(X[start:end].values if isinstance(X, pd.DataFrame) else X[start:end])\n",
    "        y_windows.append(y[end:end + forecast_horizon].reshape(-1))\n",
    "    return np.array(X_windows), np.array(y_windows)\n",
    "\n",
    "# 滑动窗口尺寸列表\n",
    "window_sizes = [2, 3, 4, 5, 6, 7, 8, 9, 10, 12, 16, 24]\n",
    "validation_errors = []\n",
    "\n",
    "# 遍历不同的滑动窗口尺寸并训练模型\n",
    "for window_size in window_sizes:\n",
    "    print(f\"Training with window_size={window_size}\")\n",
    "\n",
    "    # 创建滑动窗口数据\n",
    "    X_train_multi, y_train_multi = create_sliding_window_features(X_train_scaled, y_train_scaled, window_size, output_size)\n",
    "    X_val_multi, y_val_multi = create_sliding_window_features(X_val_scaled, y_val_scaled, window_size, output_size)\n",
    "\n",
    "    # 检查是否有足够的数据\n",
    "    if X_train_multi.shape[0] == 0 or X_val_multi.shape[0] == 0:\n",
    "        print(f\"Window size {window_size} resulted in insufficient training/validation data. Skipping.\")\n",
    "        continue\n",
    "\n",
    "    # 构建模型\n",
    "    lstm_model = build_lstm_model((window_size, X_train_scaled.shape[1]))\n",
    "\n",
    "    # 训练模型\n",
    "    history = lstm_model.fit(\n",
    "        X_train_multi,\n",
    "        y_train_multi,\n",
    "        epochs=50,  # 可根据需要调整\n",
    "        batch_size=64,\n",
    "        validation_data=(X_val_multi, y_val_multi),\n",
    "        verbose=0  # 设置为0以减少输出\n",
    "    )\n",
    "\n",
    "    # 计算验证集上的平均 RMSE\n",
    "    y_val_pred = lstm_model.predict(X_val_multi)\n",
    "    print(\"Validation RMSE for window_size={window_size}\")\n",
    "    overall_rmse, overall_mae, overall_mape, rmse_steps, mae_steps, mape_steps = calculate_and_print_errors(y_val_multi, y_val_pred)\n",
    "\n"
   ]
  }
 ],
 "metadata": {
  "kernelspec": {
   "display_name": "Python 3",
   "language": "python",
   "name": "python3"
  },
  "language_info": {
   "codemirror_mode": {
    "name": "ipython",
    "version": 3
   },
   "file_extension": ".py",
   "mimetype": "text/x-python",
   "name": "python",
   "nbconvert_exporter": "python",
   "pygments_lexer": "ipython3",
   "version": "3.12.5"
  }
 },
 "nbformat": 4,
 "nbformat_minor": 2
}
