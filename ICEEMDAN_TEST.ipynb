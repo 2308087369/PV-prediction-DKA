{
 "cells": [
  {
   "cell_type": "code",
   "execution_count": null,
   "metadata": {},
   "outputs": [
    {
     "ename": "",
     "evalue": "",
     "output_type": "error",
     "traceback": [
      "\u001b[1;31m内核启动失败，因为无法从 \"e:\\Pythonworkshop\\Load_federated_learning\\.conda\\Lib\\site-packages\\typing_extensions.py\" 导入 \"TypeAliasType\"。\n",
      "\u001b[1;31m有关详细信息，请单击 <a href=\"https://aka.ms/kernelFailuresModuleImportErrFromFile\">此处</a>。"
     ]
    }
   ],
   "source": [
    "import pandas as pd\n",
    "import numpy as np\n",
    "import matplotlib.pyplot as plt\n",
    "from PyEMD import EEMD  # 使用EEMD作为近似实现\n",
    "\n",
    "# 加载数据\n",
    "file_path = r'E:\\Pythonworkshop\\Solar_data_processing\\cleaned_data_final_Yulara.csv'\n",
    "data = pd.read_csv(file_path)\n",
    "\n",
    "# 检查是否包含Active_Power列\n",
    "if 'Active_Power' not in data.columns:\n",
    "    raise ValueError(\"数据中没有Active_Power列\")\n",
    "\n",
    "# 提取功率数据\n",
    "power_data = data['Active_Power'].values\n",
    "\n",
    "# 使用EEMD进行信号分解\n",
    "eemd = EEMD()\n",
    "imfs = eemd.eemd(power_data)\n",
    "\n",
    "# 可视化IMFs\n",
    "plt.figure(figsize=(14, 8))\n",
    "num_imfs = imfs.shape[0]\n",
    "\n",
    "for i in range(num_imfs):\n",
    "    plt.subplot(num_imfs + 1, 1, i + 1)\n",
    "    plt.plot(imfs[i], 'g')\n",
    "    plt.title(f'IMF {i + 1}')\n",
    "\n",
    "# 绘制原始数据\n",
    "plt.subplot(num_imfs + 1, 1, num_imfs + 1)\n",
    "plt.plot(power_data, 'b')\n",
    "plt.title('Original Active Power Data')\n",
    "\n",
    "plt.tight_layout()\n",
    "plt.show()\n"
   ]
  }
 ],
 "metadata": {
  "kernelspec": {
   "display_name": "Python 3",
   "language": "python",
   "name": "python3"
  },
  "language_info": {
   "codemirror_mode": {
    "name": "ipython",
    "version": 3
   },
   "file_extension": ".py",
   "mimetype": "text/x-python",
   "name": "python",
   "nbconvert_exporter": "python",
   "pygments_lexer": "ipython3",
   "version": "-1.-1.-1"
  }
 },
 "nbformat": 4,
 "nbformat_minor": 2
}
